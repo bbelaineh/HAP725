{
 "cells": [
  {
   "cell_type": "code",
   "execution_count": 1,
   "id": "86978834",
   "metadata": {},
   "outputs": [],
   "source": [
    "import pandas as pd"
   ]
  },
  {
   "cell_type": "code",
   "execution_count": 2,
   "id": "a1626bf9",
   "metadata": {},
   "outputs": [],
   "source": [
    "import numpy as np"
   ]
  },
  {
   "cell_type": "code",
   "execution_count": 4,
   "id": "24fa9c7f",
   "metadata": {},
   "outputs": [],
   "source": [
    "#Importing data file\n",
    "patients=pd.read_csv(r'C:\\Users\\seble\\Downloads\\GMU Fall 2022\\HAP 725\\prob_LS.csv')"
   ]
  },
  {
   "cell_type": "code",
   "execution_count": 25,
   "id": "556b9ab3",
   "metadata": {},
   "outputs": [],
   "source": [
    "#Filter for patient 1 data \n",
    "patient1 = patients[patients['ID']==1]\n",
    "patient2 = patients[patients['ID']==2]\n",
    "patient3 = patients[patients['ID']==3]"
   ]
  },
  {
   "cell_type": "code",
   "execution_count": 26,
   "id": "7bba0598",
   "metadata": {},
   "outputs": [
    {
     "name": "stdout",
     "output_type": "stream",
     "text": [
      "   ID ICD9    LR\n",
      "0   1   AA  2.60\n",
      "1   1   DM  1.63\n",
      "2   1  HIV  1.00\n"
     ]
    }
   ],
   "source": [
    "#View patient 1 data \n",
    "\n",
    "print(patient1)"
   ]
  },
  {
   "cell_type": "code",
   "execution_count": 28,
   "id": "2e880c3c",
   "metadata": {},
   "outputs": [
    {
     "name": "stdout",
     "output_type": "stream",
     "text": [
      "<class 'pandas.core.frame.DataFrame'>\n",
      "Int64Index: 3 entries, 0 to 2\n",
      "Data columns (total 3 columns):\n",
      " #   Column  Non-Null Count  Dtype  \n",
      "---  ------  --------------  -----  \n",
      " 0   ID      3 non-null      int64  \n",
      " 1   ICD9    3 non-null      object \n",
      " 2   LR      3 non-null      float64\n",
      "dtypes: float64(1), int64(1), object(1)\n",
      "memory usage: 96.0+ bytes\n"
     ]
    }
   ],
   "source": [
    "#view metadata info concerning the generated dataframe\n",
    "\n",
    "patient1.info()"
   ]
  },
  {
   "cell_type": "code",
   "execution_count": 29,
   "id": "9714b1c5",
   "metadata": {},
   "outputs": [
    {
     "name": "stdout",
     "output_type": "stream",
     "text": [
      "   ID ICD9    LR     LogP1\n",
      "0   1   AA  2.60  0.955511\n",
      "1   1   DM  1.63  0.488580\n",
      "2   1  HIV  1.00  0.000000\n",
      "   ID ICD9    LR     LogP2\n",
      "3   2   MI  3.47  1.244155\n",
      "4   2  CHF  5.53  1.710188\n",
      "   ID ICD9    LR     LogP3\n",
      "5   3   DM  1.63  0.488580\n",
      "6   3  CHF  5.53  1.710188\n",
      "7   3   AA  2.60  0.955511\n",
      "8   3   MI  3.47  1.244155\n"
     ]
    },
    {
     "name": "stderr",
     "output_type": "stream",
     "text": [
      "C:\\Users\\seble\\AppData\\Local\\Temp\\ipykernel_19676\\2167826897.py:2: SettingWithCopyWarning: \n",
      "A value is trying to be set on a copy of a slice from a DataFrame.\n",
      "Try using .loc[row_indexer,col_indexer] = value instead\n",
      "\n",
      "See the caveats in the documentation: https://pandas.pydata.org/pandas-docs/stable/user_guide/indexing.html#returning-a-view-versus-a-copy\n",
      "  patient1['LogP1'] = np.log(patient1['LR'])\n",
      "C:\\Users\\seble\\AppData\\Local\\Temp\\ipykernel_19676\\2167826897.py:4: SettingWithCopyWarning: \n",
      "A value is trying to be set on a copy of a slice from a DataFrame.\n",
      "Try using .loc[row_indexer,col_indexer] = value instead\n",
      "\n",
      "See the caveats in the documentation: https://pandas.pydata.org/pandas-docs/stable/user_guide/indexing.html#returning-a-view-versus-a-copy\n",
      "  patient2['LogP2'] = np.log(patient2['LR'])\n",
      "C:\\Users\\seble\\AppData\\Local\\Temp\\ipykernel_19676\\2167826897.py:6: SettingWithCopyWarning: \n",
      "A value is trying to be set on a copy of a slice from a DataFrame.\n",
      "Try using .loc[row_indexer,col_indexer] = value instead\n",
      "\n",
      "See the caveats in the documentation: https://pandas.pydata.org/pandas-docs/stable/user_guide/indexing.html#returning-a-view-versus-a-copy\n",
      "  patient3['LogP3'] = np.log(patient3['LR'])\n"
     ]
    }
   ],
   "source": [
    "#calculate the log for LRatio values \n",
    "patient1['LogP1'] = np.log(patient1['LR'])\n",
    "\n",
    "patient2['LogP2'] = np.log(patient2['LR'])\n",
    "\n",
    "patient3['LogP3'] = np.log(patient3['LR'])\n",
    "\n",
    "#Show the dataframe to see the columns generated --ignore the error \n",
    "\n",
    "print(patient1)\n",
    "\n",
    "\n",
    "print(patient2)\n",
    "\n",
    "\n",
    "print(patient3)"
   ]
  },
  {
   "cell_type": "code",
   "execution_count": 30,
   "id": "c5ccb90f",
   "metadata": {},
   "outputs": [
    {
     "name": "stdout",
     "output_type": "stream",
     "text": [
      "1.4440914598461072\n"
     ]
    }
   ],
   "source": [
    "#Find the sum of the log for patient 1 \n",
    "\n",
    "sumLogP1 = patient1['LogP1'].sum()\n",
    "\n",
    "#view result \n",
    "\n",
    "print(sumLogP1)"
   ]
  },
  {
   "cell_type": "code",
   "execution_count": 31,
   "id": "fce07165",
   "metadata": {},
   "outputs": [
    {
     "name": "stdout",
     "output_type": "stream",
     "text": [
      "4.2379999999999995\n"
     ]
    }
   ],
   "source": [
    "#Find the Odds for Patient 1 \n",
    "\n",
    "OddsP1 = np.exp(sumLogP1)\n",
    "print(OddsP1)"
   ]
  },
  {
   "cell_type": "code",
   "execution_count": 32,
   "id": "da75d231",
   "metadata": {},
   "outputs": [
    {
     "name": "stdout",
     "output_type": "stream",
     "text": [
      "0.81\n"
     ]
    }
   ],
   "source": [
    "#Determine the probability for patient 1 rounded to 2 decimal places \n",
    "probabilityP1 = (OddsP1 /(1+OddsP1)).round(decimals=2)\n",
    "\n",
    "print(probabilityP1)"
   ]
  },
  {
   "cell_type": "code",
   "execution_count": 33,
   "id": "3ac285e0",
   "metadata": {},
   "outputs": [
    {
     "name": "stdout",
     "output_type": "stream",
     "text": [
      "2.9543424094930115\n"
     ]
    }
   ],
   "source": [
    "#Find the sum of the log for patient 2 \n",
    "\n",
    "sumLogP2 = patient2['LogP2'].sum()\n",
    "\n",
    "print(sumLogP2)"
   ]
  },
  {
   "cell_type": "code",
   "execution_count": 34,
   "id": "db4829c0",
   "metadata": {},
   "outputs": [
    {
     "name": "stdout",
     "output_type": "stream",
     "text": [
      "19.189100000000003\n"
     ]
    }
   ],
   "source": [
    "#Find the Odds for Patient 2 \n",
    "\n",
    "OddsP2 = np.exp(sumLogP2)\n",
    "\n",
    "print(OddsP2)"
   ]
  },
  {
   "cell_type": "code",
   "execution_count": 35,
   "id": "a8bda381",
   "metadata": {},
   "outputs": [
    {
     "name": "stdout",
     "output_type": "stream",
     "text": [
      "0.95\n"
     ]
    }
   ],
   "source": [
    "#Determine the probability for patient 2 rounded to 2 decimal places \n",
    "\n",
    "probabilityP2 = (OddsP2/(1+OddsP2)).round(decimals=2)\n",
    "print(probabilityP2)"
   ]
  },
  {
   "cell_type": "code",
   "execution_count": 36,
   "id": "7092ed17",
   "metadata": {},
   "outputs": [
    {
     "name": "stdout",
     "output_type": "stream",
     "text": [
      "4.398433869339119\n"
     ]
    }
   ],
   "source": [
    "#Find the sum of the log for patient 3 \n",
    "\n",
    "sumLogP3 = patient3['LogP3'].sum()\n",
    "\n",
    "print(sumLogP3)"
   ]
  },
  {
   "cell_type": "code",
   "execution_count": 37,
   "id": "1f848766",
   "metadata": {},
   "outputs": [
    {
     "name": "stdout",
     "output_type": "stream",
     "text": [
      "81.32340580000002\n"
     ]
    }
   ],
   "source": [
    "#Find the Odds for Patient 3 \n",
    "\n",
    "OddsP3 = np.exp(sumLogP3)\n",
    "print(OddsP3)"
   ]
  },
  {
   "cell_type": "code",
   "execution_count": 38,
   "id": "7d445479",
   "metadata": {},
   "outputs": [
    {
     "name": "stdout",
     "output_type": "stream",
     "text": [
      "0.99\n"
     ]
    }
   ],
   "source": [
    "#Determine the probability for patient 3 rounded to 2 decimal places \n",
    "\n",
    "probabilityP3 = (OddsP3/(1+OddsP3)).round(decimals=2)\n",
    "print(probabilityP3)"
   ]
  },
  {
   "cell_type": "code",
   "execution_count": null,
   "id": "482f73f4",
   "metadata": {},
   "outputs": [],
   "source": []
  }
 ],
 "metadata": {
  "kernelspec": {
   "display_name": "Python 3 (ipykernel)",
   "language": "python",
   "name": "python3"
  },
  "language_info": {
   "codemirror_mode": {
    "name": "ipython",
    "version": 3
   },
   "file_extension": ".py",
   "mimetype": "text/x-python",
   "name": "python",
   "nbconvert_exporter": "python",
   "pygments_lexer": "ipython3",
   "version": "3.10.6"
  }
 },
 "nbformat": 4,
 "nbformat_minor": 5
}
